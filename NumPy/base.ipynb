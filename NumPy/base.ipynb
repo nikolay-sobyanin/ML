{
 "cells": [
  {
   "cell_type": "code",
   "execution_count": 1,
   "id": "cc0a0ffb",
   "metadata": {},
   "outputs": [],
   "source": [
    "import numpy as np"
   ]
  },
  {
   "cell_type": "markdown",
   "id": "c3d80d42",
   "metadata": {},
   "source": [
    "# Создание массива"
   ]
  },
  {
   "cell_type": "code",
   "execution_count": 2,
   "id": "e15dc360",
   "metadata": {},
   "outputs": [
    {
     "data": {
      "text/plain": [
       "array([12, 29, 44])"
      ]
     },
     "execution_count": 2,
     "metadata": {},
     "output_type": "execute_result"
    }
   ],
   "source": [
    "a = [12, 29, 44]\n",
    "np.array(a)"
   ]
  },
  {
   "cell_type": "code",
   "execution_count": 3,
   "id": "cc21a7a1",
   "metadata": {},
   "outputs": [
    {
     "data": {
      "text/plain": [
       "array([[1, 2],\n",
       "       [3, 4]])"
      ]
     },
     "execution_count": 3,
     "metadata": {},
     "output_type": "execute_result"
    }
   ],
   "source": [
    "a = [(1, 2), (3, 4)]\n",
    "np.array(a)"
   ]
  },
  {
   "cell_type": "code",
   "execution_count": 4,
   "id": "918c151d",
   "metadata": {},
   "outputs": [
    {
     "data": {
      "text/plain": [
       "array([[ 1.,  4.],\n",
       "       [50., 11.]], dtype=float32)"
      ]
     },
     "execution_count": 4,
     "metadata": {},
     "output_type": "execute_result"
    }
   ],
   "source": [
    "a = [[1, 4], [50, 11]]\n",
    "np.array(a, dtype=np.float32)"
   ]
  },
  {
   "cell_type": "markdown",
   "id": "9afa128a",
   "metadata": {},
   "source": [
    "# Информация о массиве"
   ]
  },
  {
   "cell_type": "code",
   "execution_count": 5,
   "id": "a2bb9895",
   "metadata": {},
   "outputs": [
    {
     "data": {
      "text/plain": [
       "array([ 0,  1,  2,  3,  4,  5,  6,  7,  8,  9, 10, 11, 12, 13, 14])"
      ]
     },
     "execution_count": 5,
     "metadata": {},
     "output_type": "execute_result"
    }
   ],
   "source": [
    "a = np.arange(15, dtype=np.int32)\n",
    "a"
   ]
  },
  {
   "cell_type": "code",
   "execution_count": 6,
   "id": "c72a0dd6",
   "metadata": {},
   "outputs": [],
   "source": [
    "a = a.reshape((3, 5))"
   ]
  },
  {
   "cell_type": "code",
   "execution_count": 7,
   "id": "e169f865",
   "metadata": {},
   "outputs": [
    {
     "data": {
      "text/plain": [
       "numpy.ndarray"
      ]
     },
     "execution_count": 7,
     "metadata": {},
     "output_type": "execute_result"
    }
   ],
   "source": [
    "type(a)"
   ]
  },
  {
   "cell_type": "code",
   "execution_count": 8,
   "id": "dfea53bf",
   "metadata": {},
   "outputs": [
    {
     "data": {
      "text/plain": [
       "2"
      ]
     },
     "execution_count": 8,
     "metadata": {},
     "output_type": "execute_result"
    }
   ],
   "source": [
    "a.ndim"
   ]
  },
  {
   "cell_type": "code",
   "execution_count": 9,
   "id": "bdbac502",
   "metadata": {},
   "outputs": [
    {
     "data": {
      "text/plain": [
       "(3, 5)"
      ]
     },
     "execution_count": 9,
     "metadata": {},
     "output_type": "execute_result"
    }
   ],
   "source": [
    "a.shape"
   ]
  },
  {
   "cell_type": "code",
   "execution_count": 10,
   "id": "9d18490f",
   "metadata": {},
   "outputs": [
    {
     "data": {
      "text/plain": [
       "15"
      ]
     },
     "execution_count": 10,
     "metadata": {},
     "output_type": "execute_result"
    }
   ],
   "source": [
    "a.size"
   ]
  },
  {
   "cell_type": "code",
   "execution_count": 11,
   "id": "f9ece1da",
   "metadata": {},
   "outputs": [
    {
     "data": {
      "text/plain": [
       "dtype('int32')"
      ]
     },
     "execution_count": 11,
     "metadata": {},
     "output_type": "execute_result"
    }
   ],
   "source": [
    "a.dtype"
   ]
  },
  {
   "cell_type": "code",
   "execution_count": 12,
   "id": "8ee9f944",
   "metadata": {},
   "outputs": [
    {
     "data": {
      "text/plain": [
       "4"
      ]
     },
     "execution_count": 12,
     "metadata": {},
     "output_type": "execute_result"
    }
   ],
   "source": [
    "a.itemsize"
   ]
  },
  {
   "cell_type": "markdown",
   "id": "47922f19",
   "metadata": {},
   "source": [
    "# Заполнение данными по умолчанию"
   ]
  },
  {
   "cell_type": "code",
   "execution_count": 13,
   "id": "90d9598c",
   "metadata": {},
   "outputs": [
    {
     "data": {
      "text/plain": [
       "array([[[0, 0, 0],\n",
       "        [0, 0, 0],\n",
       "        [0, 0, 0],\n",
       "        [0, 0, 0]],\n",
       "\n",
       "       [[0, 0, 0],\n",
       "        [0, 0, 0],\n",
       "        [0, 0, 0],\n",
       "        [0, 0, 0]]], dtype=int8)"
      ]
     },
     "execution_count": 13,
     "metadata": {},
     "output_type": "execute_result"
    }
   ],
   "source": [
    "np.zeros((2, 4, 3), dtype=np.int8)"
   ]
  },
  {
   "cell_type": "code",
   "execution_count": 14,
   "id": "29dc0c89",
   "metadata": {},
   "outputs": [
    {
     "data": {
      "text/plain": [
       "array([[1., 1., 1., 1.],\n",
       "       [1., 1., 1., 1.],\n",
       "       [1., 1., 1., 1.]])"
      ]
     },
     "execution_count": 14,
     "metadata": {},
     "output_type": "execute_result"
    }
   ],
   "source": [
    "np.ones((3, 4))"
   ]
  },
  {
   "cell_type": "code",
   "execution_count": 15,
   "id": "342675db",
   "metadata": {},
   "outputs": [
    {
     "data": {
      "text/plain": [
       "array([[3.28700213e-288, 6.36541413e-288, 4.45469735e-308,\n",
       "        1.64350420e-288, 2.66964936e-288, 1.84874200e-288],\n",
       "       [3.08010147e-288, 3.08010771e-288, 2.15658852e-288,\n",
       "        4.45471857e-308, 2.15656973e-288, 5.54448480e-288],\n",
       "       [2.36015879e-288, 3.28700213e-288, 1.64351359e-288,\n",
       "        2.87486211e-288, 2.15657756e-288, 2.30452256e-311]])"
      ]
     },
     "execution_count": 15,
     "metadata": {},
     "output_type": "execute_result"
    }
   ],
   "source": [
    "np.empty((3, 6))"
   ]
  },
  {
   "cell_type": "code",
   "execution_count": null,
   "id": "378b5872",
   "metadata": {},
   "outputs": [],
   "source": []
  },
  {
   "cell_type": "code",
   "execution_count": 16,
   "id": "df6b14a5",
   "metadata": {},
   "outputs": [
    {
     "data": {
      "text/plain": [
       "array([10, 12, 14, 16, 18, 20])"
      ]
     },
     "execution_count": 16,
     "metadata": {},
     "output_type": "execute_result"
    }
   ],
   "source": [
    "np.arange(10, 21, 2)"
   ]
  },
  {
   "cell_type": "code",
   "execution_count": 17,
   "id": "fa527154",
   "metadata": {},
   "outputs": [
    {
     "data": {
      "text/plain": [
       "array([1. , 1.1, 1.2, 1.3, 1.4, 1.5, 1.6, 1.7, 1.8, 1.9, 2. ])"
      ]
     },
     "execution_count": 17,
     "metadata": {},
     "output_type": "execute_result"
    }
   ],
   "source": [
    "np.linspace(1, 2, 11)"
   ]
  },
  {
   "cell_type": "code",
   "execution_count": 18,
   "id": "d565a6fe",
   "metadata": {},
   "outputs": [
    {
     "data": {
      "text/plain": [
       "array([[0.57938545, 0.10368207, 0.97491026],\n",
       "       [0.16190703, 0.59116772, 0.51177173]])"
      ]
     },
     "execution_count": 18,
     "metadata": {},
     "output_type": "execute_result"
    }
   ],
   "source": [
    "np.random.rand(2, 3)"
   ]
  },
  {
   "cell_type": "code",
   "execution_count": 19,
   "id": "fd435a94",
   "metadata": {},
   "outputs": [
    {
     "data": {
      "text/plain": [
       "array([[9, 6],\n",
       "       [4, 2],\n",
       "       [5, 4]])"
      ]
     },
     "execution_count": 19,
     "metadata": {},
     "output_type": "execute_result"
    }
   ],
   "source": [
    "np.random.randint(1, 10, (3, 2))"
   ]
  },
  {
   "cell_type": "code",
   "execution_count": 20,
   "id": "291e354b",
   "metadata": {},
   "outputs": [
    {
     "data": {
      "text/plain": [
       "array([11,  7,  4,  9,  0, 18,  5, 14, 10,  6], dtype=int64)"
      ]
     },
     "execution_count": 20,
     "metadata": {},
     "output_type": "execute_result"
    }
   ],
   "source": [
    "np.random.default_rng().choice(20, size=10, replace=False)"
   ]
  },
  {
   "cell_type": "code",
   "execution_count": 21,
   "id": "e5338ea0",
   "metadata": {},
   "outputs": [
    {
     "data": {
      "text/plain": [
       "array([19,  7, 13,  5,  3,  8,  9,  4,  1, 15])"
      ]
     },
     "execution_count": 21,
     "metadata": {},
     "output_type": "execute_result"
    }
   ],
   "source": [
    "a = np.arange(20)\n",
    "np.random.shuffle(a)\n",
    "a[:10]"
   ]
  },
  {
   "cell_type": "markdown",
   "id": "d712bfed",
   "metadata": {},
   "source": [
    "# Базовые операции"
   ]
  },
  {
   "cell_type": "code",
   "execution_count": 22,
   "id": "16a8c735",
   "metadata": {},
   "outputs": [
    {
     "data": {
      "text/plain": [
       "(array([1, 7, 1, 3]), array([0, 1, 2, 3]), array([1, 8, 3, 6]))"
      ]
     },
     "execution_count": 22,
     "metadata": {},
     "output_type": "execute_result"
    }
   ],
   "source": [
    "a = np.random.randint(1, 10, 4)\n",
    "b = np.arange(4)\n",
    "\n",
    "a, b, a + b"
   ]
  },
  {
   "cell_type": "code",
   "execution_count": 23,
   "id": "421b4db6",
   "metadata": {},
   "outputs": [
    {
     "data": {
      "text/plain": [
       "array([ 1,  6, -1,  0])"
      ]
     },
     "execution_count": 23,
     "metadata": {},
     "output_type": "execute_result"
    }
   ],
   "source": [
    "a - b"
   ]
  },
  {
   "cell_type": "code",
   "execution_count": 24,
   "id": "b650d161",
   "metadata": {},
   "outputs": [
    {
     "data": {
      "text/plain": [
       "array([0, 1, 4, 9], dtype=int32)"
      ]
     },
     "execution_count": 24,
     "metadata": {},
     "output_type": "execute_result"
    }
   ],
   "source": [
    "b**2"
   ]
  },
  {
   "cell_type": "code",
   "execution_count": 25,
   "id": "5b8b02f5",
   "metadata": {},
   "outputs": [
    {
     "data": {
      "text/plain": [
       "array([0.        , 0.84147098, 0.90929743, 0.14112001])"
      ]
     },
     "execution_count": 25,
     "metadata": {},
     "output_type": "execute_result"
    }
   ],
   "source": [
    "np.sin(b)"
   ]
  },
  {
   "cell_type": "code",
   "execution_count": 26,
   "id": "fdd35fcc",
   "metadata": {},
   "outputs": [
    {
     "data": {
      "text/plain": [
       "(array([0, 1, 2, 3]), array([ True,  True, False, False]))"
      ]
     },
     "execution_count": 26,
     "metadata": {},
     "output_type": "execute_result"
    }
   ],
   "source": [
    "b, b < 2"
   ]
  },
  {
   "cell_type": "code",
   "execution_count": null,
   "id": "f08fe747",
   "metadata": {},
   "outputs": [],
   "source": []
  },
  {
   "cell_type": "code",
   "execution_count": 27,
   "id": "a0544d7b",
   "metadata": {},
   "outputs": [],
   "source": [
    "A = np.array([[3, 1],\n",
    "              [0, 10]])\n",
    "\n",
    "B = np.array([[2, 0],\n",
    "              [3, 4]])"
   ]
  },
  {
   "cell_type": "code",
   "execution_count": 28,
   "id": "c80526c5",
   "metadata": {},
   "outputs": [
    {
     "data": {
      "text/plain": [
       "array([[ 6,  0],\n",
       "       [ 0, 40]])"
      ]
     },
     "execution_count": 28,
     "metadata": {},
     "output_type": "execute_result"
    }
   ],
   "source": [
    "A*B"
   ]
  },
  {
   "cell_type": "code",
   "execution_count": 29,
   "id": "061b9a9f",
   "metadata": {},
   "outputs": [
    {
     "data": {
      "text/plain": [
       "array([[ 9,  4],\n",
       "       [30, 40]])"
      ]
     },
     "execution_count": 29,
     "metadata": {},
     "output_type": "execute_result"
    }
   ],
   "source": [
    "A @ B"
   ]
  },
  {
   "cell_type": "code",
   "execution_count": 30,
   "id": "df9c0ac8",
   "metadata": {},
   "outputs": [
    {
     "data": {
      "text/plain": [
       "array([[ 9,  4],\n",
       "       [30, 40]])"
      ]
     },
     "execution_count": 30,
     "metadata": {},
     "output_type": "execute_result"
    }
   ],
   "source": [
    "A.dot(B)"
   ]
  },
  {
   "cell_type": "code",
   "execution_count": 31,
   "id": "1be895af",
   "metadata": {},
   "outputs": [
    {
     "data": {
      "text/plain": [
       "array([[ 4,  2],\n",
       "       [ 1, 11]])"
      ]
     },
     "execution_count": 31,
     "metadata": {},
     "output_type": "execute_result"
    }
   ],
   "source": [
    "A += 1\n",
    "A"
   ]
  },
  {
   "cell_type": "code",
   "execution_count": 32,
   "id": "d0e291e1",
   "metadata": {},
   "outputs": [],
   "source": [
    "B *= 2"
   ]
  },
  {
   "cell_type": "code",
   "execution_count": 33,
   "id": "2c37aa23",
   "metadata": {},
   "outputs": [
    {
     "data": {
      "text/plain": [
       "array([[4, 0],\n",
       "       [6, 8]])"
      ]
     },
     "execution_count": 33,
     "metadata": {},
     "output_type": "execute_result"
    }
   ],
   "source": [
    "B"
   ]
  },
  {
   "cell_type": "markdown",
   "id": "939657d7",
   "metadata": {},
   "source": [
    "# Множественные операции"
   ]
  },
  {
   "cell_type": "code",
   "execution_count": 34,
   "id": "e89df5af",
   "metadata": {},
   "outputs": [
    {
     "data": {
      "text/plain": [
       "array([[0.51182162, 0.9504637 , 0.14415961, 0.94864945],\n",
       "       [0.31183145, 0.42332645, 0.82770259, 0.40919914]])"
      ]
     },
     "execution_count": 34,
     "metadata": {},
     "output_type": "execute_result"
    }
   ],
   "source": [
    "a = np.random.default_rng(1).random((2, 4))\n",
    "a"
   ]
  },
  {
   "cell_type": "code",
   "execution_count": 35,
   "id": "ab927965",
   "metadata": {},
   "outputs": [
    {
     "data": {
      "text/plain": [
       "4.527154012055734"
      ]
     },
     "execution_count": 35,
     "metadata": {},
     "output_type": "execute_result"
    }
   ],
   "source": [
    "a.sum()"
   ]
  },
  {
   "cell_type": "code",
   "execution_count": 36,
   "id": "566fd2f8",
   "metadata": {},
   "outputs": [
    {
     "data": {
      "text/plain": [
       "0.14415961271963373"
      ]
     },
     "execution_count": 36,
     "metadata": {},
     "output_type": "execute_result"
    }
   ],
   "source": [
    "a.min()"
   ]
  },
  {
   "cell_type": "code",
   "execution_count": 37,
   "id": "7402c14a",
   "metadata": {},
   "outputs": [
    {
     "data": {
      "text/plain": [
       "0.9504636963259353"
      ]
     },
     "execution_count": 37,
     "metadata": {},
     "output_type": "execute_result"
    }
   ],
   "source": [
    "a.max()"
   ]
  },
  {
   "cell_type": "code",
   "execution_count": null,
   "id": "3991baf9",
   "metadata": {},
   "outputs": [],
   "source": []
  },
  {
   "cell_type": "code",
   "execution_count": 38,
   "id": "9bd2aaf5",
   "metadata": {},
   "outputs": [
    {
     "data": {
      "text/plain": [
       "array([0.82365308, 1.37379015, 0.97186221, 1.35784858])"
      ]
     },
     "execution_count": 38,
     "metadata": {},
     "output_type": "execute_result"
    }
   ],
   "source": [
    "a.sum(axis=0)"
   ]
  },
  {
   "cell_type": "code",
   "execution_count": 39,
   "id": "3576a379",
   "metadata": {},
   "outputs": [
    {
     "data": {
      "text/plain": [
       "array([2.55509438, 1.97205963])"
      ]
     },
     "execution_count": 39,
     "metadata": {},
     "output_type": "execute_result"
    }
   ],
   "source": [
    "a.sum(axis=1)"
   ]
  },
  {
   "cell_type": "code",
   "execution_count": 40,
   "id": "0f716c3a",
   "metadata": {},
   "outputs": [
    {
     "data": {
      "text/plain": [
       "array([[0.51182162, 1.46228532, 1.60644493, 2.55509438],\n",
       "       [0.31183145, 0.7351579 , 1.56286049, 1.97205963]])"
      ]
     },
     "execution_count": 40,
     "metadata": {},
     "output_type": "execute_result"
    }
   ],
   "source": [
    "a.cumsum(axis=1)"
   ]
  },
  {
   "cell_type": "markdown",
   "id": "c9dc92ae",
   "metadata": {},
   "source": [
    "# Индексация нарезка и итерация"
   ]
  },
  {
   "cell_type": "markdown",
   "id": "64d837fc",
   "metadata": {},
   "source": [
    "## Одномерный массив (как со списками)"
   ]
  },
  {
   "cell_type": "code",
   "execution_count": 41,
   "id": "1808c167",
   "metadata": {},
   "outputs": [
    {
     "data": {
      "text/plain": [
       "array([ 0,  1,  4,  9, 16, 25, 36, 49, 64, 81], dtype=int32)"
      ]
     },
     "execution_count": 41,
     "metadata": {},
     "output_type": "execute_result"
    }
   ],
   "source": [
    "a = np.arange(10)**2\n",
    "a"
   ]
  },
  {
   "cell_type": "code",
   "execution_count": 42,
   "id": "8da3de6a",
   "metadata": {},
   "outputs": [
    {
     "data": {
      "text/plain": [
       "9"
      ]
     },
     "execution_count": 42,
     "metadata": {},
     "output_type": "execute_result"
    }
   ],
   "source": [
    "a[3]"
   ]
  },
  {
   "cell_type": "code",
   "execution_count": 43,
   "id": "a92997eb",
   "metadata": {},
   "outputs": [
    {
     "data": {
      "text/plain": [
       "array([1, 4], dtype=int32)"
      ]
     },
     "execution_count": 43,
     "metadata": {},
     "output_type": "execute_result"
    }
   ],
   "source": [
    "a[1:3]"
   ]
  },
  {
   "cell_type": "code",
   "execution_count": 44,
   "id": "31de2947",
   "metadata": {},
   "outputs": [
    {
     "data": {
      "text/plain": [
       "array([ 0,  4, 16], dtype=int32)"
      ]
     },
     "execution_count": 44,
     "metadata": {},
     "output_type": "execute_result"
    }
   ],
   "source": [
    "a[:6:2]"
   ]
  },
  {
   "cell_type": "code",
   "execution_count": 45,
   "id": "7a3336ce",
   "metadata": {},
   "outputs": [],
   "source": [
    "a[:8:2] = 1000"
   ]
  },
  {
   "cell_type": "code",
   "execution_count": 46,
   "id": "557bdbfd",
   "metadata": {},
   "outputs": [
    {
     "data": {
      "text/plain": [
       "array([1000,    1, 1000,    9, 1000,   25, 1000,   49,   64,   81],\n",
       "      dtype=int32)"
      ]
     },
     "execution_count": 46,
     "metadata": {},
     "output_type": "execute_result"
    }
   ],
   "source": [
    "a"
   ]
  },
  {
   "cell_type": "code",
   "execution_count": 47,
   "id": "44ae8266",
   "metadata": {},
   "outputs": [
    {
     "name": "stdout",
     "output_type": "stream",
     "text": [
      "0\n",
      "1\n",
      "0\n",
      "9\n",
      "0\n",
      "5\n",
      "0\n",
      "9\n",
      "4\n",
      "1\n"
     ]
    }
   ],
   "source": [
    "for i in a:\n",
    "    print(i%10)"
   ]
  },
  {
   "cell_type": "markdown",
   "id": "c38f92a2",
   "metadata": {},
   "source": [
    "## Многомерные массивы"
   ]
  },
  {
   "cell_type": "code",
   "execution_count": 48,
   "id": "cee5de19",
   "metadata": {},
   "outputs": [],
   "source": [
    "f = lambda x, y: 10 * x + y"
   ]
  },
  {
   "cell_type": "code",
   "execution_count": 49,
   "id": "ec51b6ad",
   "metadata": {},
   "outputs": [
    {
     "data": {
      "text/plain": [
       "array([[ 0.,  1.,  2.],\n",
       "       [10., 11., 12.],\n",
       "       [20., 21., 22.],\n",
       "       [30., 31., 32.]])"
      ]
     },
     "execution_count": 49,
     "metadata": {},
     "output_type": "execute_result"
    }
   ],
   "source": [
    "b = np.fromfunction(f, (4, 3))\n",
    "b"
   ]
  },
  {
   "cell_type": "code",
   "execution_count": 50,
   "id": "d2e50ba8",
   "metadata": {},
   "outputs": [
    {
     "data": {
      "text/plain": [
       "31.0"
      ]
     },
     "execution_count": 50,
     "metadata": {},
     "output_type": "execute_result"
    }
   ],
   "source": [
    "b[3, 1]"
   ]
  },
  {
   "cell_type": "code",
   "execution_count": 51,
   "id": "97eaa27c",
   "metadata": {},
   "outputs": [
    {
     "data": {
      "text/plain": [
       "array([12., 22.])"
      ]
     },
     "execution_count": 51,
     "metadata": {},
     "output_type": "execute_result"
    }
   ],
   "source": [
    "b[1:3, 2]"
   ]
  },
  {
   "cell_type": "code",
   "execution_count": 52,
   "id": "115b24fd",
   "metadata": {},
   "outputs": [
    {
     "data": {
      "text/plain": [
       "array([[ 0.,  1.,  2.],\n",
       "       [10., 11., 12.]])"
      ]
     },
     "execution_count": 52,
     "metadata": {},
     "output_type": "execute_result"
    }
   ],
   "source": [
    "b[:2, :]"
   ]
  },
  {
   "cell_type": "code",
   "execution_count": 53,
   "id": "bb9184d6",
   "metadata": {},
   "outputs": [
    {
     "data": {
      "text/plain": [
       "array([[ 0.],\n",
       "       [10.],\n",
       "       [20.],\n",
       "       [30.]])"
      ]
     },
     "execution_count": 53,
     "metadata": {},
     "output_type": "execute_result"
    }
   ],
   "source": [
    "b[:, 0:1]"
   ]
  },
  {
   "cell_type": "code",
   "execution_count": 54,
   "id": "62de793b",
   "metadata": {},
   "outputs": [
    {
     "data": {
      "text/plain": [
       "array([ 0., 10., 20., 30.])"
      ]
     },
     "execution_count": 54,
     "metadata": {},
     "output_type": "execute_result"
    }
   ],
   "source": [
    "b[:, 0]"
   ]
  },
  {
   "cell_type": "code",
   "execution_count": 55,
   "id": "c2eaf8a1",
   "metadata": {},
   "outputs": [
    {
     "data": {
      "text/plain": [
       "array([30., 31., 32.])"
      ]
     },
     "execution_count": 55,
     "metadata": {},
     "output_type": "execute_result"
    }
   ],
   "source": [
    "b[-1]"
   ]
  },
  {
   "cell_type": "code",
   "execution_count": 56,
   "id": "4c1a71fc",
   "metadata": {},
   "outputs": [
    {
     "data": {
      "text/plain": [
       "array([[32., 31., 30.],\n",
       "       [22., 21., 20.],\n",
       "       [12., 11., 10.],\n",
       "       [ 2.,  1.,  0.]])"
      ]
     },
     "execution_count": 56,
     "metadata": {},
     "output_type": "execute_result"
    }
   ],
   "source": [
    "b[::-1, ::-1]"
   ]
  },
  {
   "cell_type": "code",
   "execution_count": null,
   "id": "36342cc4",
   "metadata": {},
   "outputs": [],
   "source": []
  },
  {
   "cell_type": "code",
   "execution_count": 57,
   "id": "7b915a96",
   "metadata": {},
   "outputs": [],
   "source": [
    "c = np.array([[[0, 1, 2],\n",
    "               [10, 12, 13]],\n",
    "              \n",
    "              [[100, 101, 102],\n",
    "               [110, 112, 123]]])"
   ]
  },
  {
   "cell_type": "code",
   "execution_count": 58,
   "id": "72bfcbcf",
   "metadata": {},
   "outputs": [
    {
     "data": {
      "text/plain": [
       "(2, 2, 3)"
      ]
     },
     "execution_count": 58,
     "metadata": {},
     "output_type": "execute_result"
    }
   ],
   "source": [
    "c.shape"
   ]
  },
  {
   "cell_type": "code",
   "execution_count": 59,
   "id": "fe76ba2c",
   "metadata": {},
   "outputs": [
    {
     "data": {
      "text/plain": [
       "array([[100, 101, 102],\n",
       "       [110, 112, 123]])"
      ]
     },
     "execution_count": 59,
     "metadata": {},
     "output_type": "execute_result"
    }
   ],
   "source": [
    "c[1, ...]"
   ]
  },
  {
   "cell_type": "code",
   "execution_count": 60,
   "id": "896420fc",
   "metadata": {},
   "outputs": [
    {
     "data": {
      "text/plain": [
       "array([[  2,  13],\n",
       "       [102, 123]])"
      ]
     },
     "execution_count": 60,
     "metadata": {},
     "output_type": "execute_result"
    }
   ],
   "source": [
    "c[..., 2]"
   ]
  },
  {
   "cell_type": "code",
   "execution_count": 61,
   "id": "bb679172",
   "metadata": {},
   "outputs": [
    {
     "data": {
      "text/plain": [
       "array([  2, 102])"
      ]
     },
     "execution_count": 61,
     "metadata": {},
     "output_type": "execute_result"
    }
   ],
   "source": [
    "c[..., 0, 2]"
   ]
  },
  {
   "cell_type": "code",
   "execution_count": null,
   "id": "a7b923aa",
   "metadata": {},
   "outputs": [],
   "source": []
  },
  {
   "cell_type": "code",
   "execution_count": 62,
   "id": "0c024566",
   "metadata": {},
   "outputs": [
    {
     "name": "stdout",
     "output_type": "stream",
     "text": [
      "[0. 1. 2.]\n",
      "[10. 11. 12.]\n",
      "[20. 21. 22.]\n",
      "[30. 31. 32.]\n"
     ]
    }
   ],
   "source": [
    "for row in b:\n",
    "    print(row)"
   ]
  },
  {
   "cell_type": "code",
   "execution_count": 63,
   "id": "0801842c",
   "metadata": {},
   "outputs": [
    {
     "name": "stdout",
     "output_type": "stream",
     "text": [
      "0.0\n",
      "1.0\n",
      "2.0\n",
      "10.0\n",
      "11.0\n",
      "12.0\n",
      "20.0\n",
      "21.0\n",
      "22.0\n",
      "30.0\n",
      "31.0\n",
      "32.0\n"
     ]
    }
   ],
   "source": [
    "for elem in b.flat:\n",
    "    print(elem)"
   ]
  },
  {
   "cell_type": "code",
   "execution_count": null,
   "id": "1a2687c6",
   "metadata": {},
   "outputs": [],
   "source": []
  },
  {
   "cell_type": "code",
   "execution_count": 64,
   "id": "1ef081b3",
   "metadata": {},
   "outputs": [
    {
     "data": {
      "text/plain": [
       "array([  0,   1,   4,   9,  16,  25,  36,  49,  64,  81, 100, 121],\n",
       "      dtype=int32)"
      ]
     },
     "execution_count": 64,
     "metadata": {},
     "output_type": "execute_result"
    }
   ],
   "source": [
    "a = np.arange(12)**2\n",
    "a"
   ]
  },
  {
   "cell_type": "code",
   "execution_count": 65,
   "id": "2a1ea9ff",
   "metadata": {},
   "outputs": [],
   "source": [
    "i = np.array([1, 1, 3, 5, 8])"
   ]
  },
  {
   "cell_type": "code",
   "execution_count": 66,
   "id": "cc3ddfc2",
   "metadata": {},
   "outputs": [
    {
     "data": {
      "text/plain": [
       "array([ 1,  1,  9, 25, 64], dtype=int32)"
      ]
     },
     "execution_count": 66,
     "metadata": {},
     "output_type": "execute_result"
    }
   ],
   "source": [
    "a[i]"
   ]
  },
  {
   "cell_type": "code",
   "execution_count": 67,
   "id": "c2355a30",
   "metadata": {},
   "outputs": [],
   "source": [
    "j = np.array([[1, 1], [4, 9], [8, 10]])"
   ]
  },
  {
   "cell_type": "code",
   "execution_count": 68,
   "id": "002024b2",
   "metadata": {},
   "outputs": [
    {
     "data": {
      "text/plain": [
       "array([[  1,   1],\n",
       "       [ 16,  81],\n",
       "       [ 64, 100]], dtype=int32)"
      ]
     },
     "execution_count": 68,
     "metadata": {},
     "output_type": "execute_result"
    }
   ],
   "source": [
    "a[j]"
   ]
  },
  {
   "cell_type": "markdown",
   "id": "3ddb4117",
   "metadata": {},
   "source": [
    "# Изменение формы массива"
   ]
  },
  {
   "cell_type": "code",
   "execution_count": 69,
   "id": "55adfba6",
   "metadata": {},
   "outputs": [
    {
     "data": {
      "text/plain": [
       "array([[5., 9., 1., 9.],\n",
       "       [3., 4., 8., 4.],\n",
       "       [5., 0., 7., 5.]])"
      ]
     },
     "execution_count": 69,
     "metadata": {},
     "output_type": "execute_result"
    }
   ],
   "source": [
    "rg = np.random.default_rng(1)\n",
    "a = np.floor(10*rg.random((3, 4)))\n",
    "a"
   ]
  },
  {
   "cell_type": "code",
   "execution_count": 70,
   "id": "0d892b63",
   "metadata": {},
   "outputs": [
    {
     "data": {
      "text/plain": [
       "(3, 4)"
      ]
     },
     "execution_count": 70,
     "metadata": {},
     "output_type": "execute_result"
    }
   ],
   "source": [
    "a.shape"
   ]
  },
  {
   "cell_type": "code",
   "execution_count": 71,
   "id": "71d8bdaa",
   "metadata": {},
   "outputs": [
    {
     "data": {
      "text/plain": [
       "array([5., 9., 1., 9., 3., 4., 8., 4., 5., 0., 7., 5.])"
      ]
     },
     "execution_count": 71,
     "metadata": {},
     "output_type": "execute_result"
    }
   ],
   "source": [
    "a.ravel()"
   ]
  },
  {
   "cell_type": "code",
   "execution_count": 72,
   "id": "ceee98f8",
   "metadata": {},
   "outputs": [
    {
     "data": {
      "text/plain": [
       "array([[5., 9., 1., 9., 3., 4.],\n",
       "       [8., 4., 5., 0., 7., 5.]])"
      ]
     },
     "execution_count": 72,
     "metadata": {},
     "output_type": "execute_result"
    }
   ],
   "source": [
    "a.reshape(2, 6)"
   ]
  },
  {
   "cell_type": "code",
   "execution_count": 73,
   "id": "acc6f8f8",
   "metadata": {},
   "outputs": [
    {
     "data": {
      "text/plain": [
       "array([[[5., 9., 1., 9., 3., 4., 8., 4., 5., 0., 7., 5.]]])"
      ]
     },
     "execution_count": 73,
     "metadata": {},
     "output_type": "execute_result"
    }
   ],
   "source": [
    "a.reshape((1, 1, a.size))"
   ]
  },
  {
   "cell_type": "code",
   "execution_count": 74,
   "id": "55a056f6",
   "metadata": {},
   "outputs": [
    {
     "data": {
      "text/plain": [
       "array([[5., 3., 5.],\n",
       "       [9., 4., 0.],\n",
       "       [1., 8., 7.],\n",
       "       [9., 4., 5.]])"
      ]
     },
     "execution_count": 74,
     "metadata": {},
     "output_type": "execute_result"
    }
   ],
   "source": [
    "a.T"
   ]
  },
  {
   "cell_type": "code",
   "execution_count": 75,
   "id": "cefb9f9f",
   "metadata": {},
   "outputs": [
    {
     "data": {
      "text/plain": [
       "array([[5., 9., 1., 9.],\n",
       "       [3., 4., 8., 4.],\n",
       "       [5., 0., 7., 5.]])"
      ]
     },
     "execution_count": 75,
     "metadata": {},
     "output_type": "execute_result"
    }
   ],
   "source": [
    "a"
   ]
  },
  {
   "cell_type": "code",
   "execution_count": null,
   "id": "888ccf75",
   "metadata": {},
   "outputs": [],
   "source": []
  },
  {
   "cell_type": "code",
   "execution_count": 76,
   "id": "8fcee2fe",
   "metadata": {},
   "outputs": [],
   "source": [
    "a.resize((2, 6))"
   ]
  },
  {
   "cell_type": "code",
   "execution_count": 77,
   "id": "a9835bbd",
   "metadata": {},
   "outputs": [
    {
     "data": {
      "text/plain": [
       "array([[5., 9., 1., 9., 3., 4.],\n",
       "       [8., 4., 5., 0., 7., 5.]])"
      ]
     },
     "execution_count": 77,
     "metadata": {},
     "output_type": "execute_result"
    }
   ],
   "source": [
    "a"
   ]
  },
  {
   "cell_type": "code",
   "execution_count": 78,
   "id": "3da30e48",
   "metadata": {},
   "outputs": [
    {
     "data": {
      "text/plain": [
       "array([[[5., 9.],\n",
       "        [1., 9.],\n",
       "        [3., 4.]],\n",
       "\n",
       "       [[8., 4.],\n",
       "        [5., 0.],\n",
       "        [7., 5.]]])"
      ]
     },
     "execution_count": 78,
     "metadata": {},
     "output_type": "execute_result"
    }
   ],
   "source": [
    "a.reshape(2, 3, -1)"
   ]
  },
  {
   "cell_type": "markdown",
   "id": "e462f6c2",
   "metadata": {},
   "source": [
    "# Объединение массивов"
   ]
  },
  {
   "cell_type": "code",
   "execution_count": 79,
   "id": "a6a32985",
   "metadata": {},
   "outputs": [
    {
     "data": {
      "text/plain": [
       "array([[0, 1, 2, 3, 4],\n",
       "       [5, 6, 7, 8, 9]])"
      ]
     },
     "execution_count": 79,
     "metadata": {},
     "output_type": "execute_result"
    }
   ],
   "source": [
    "a = np.arange(10).reshape(2, -1)\n",
    "a"
   ]
  },
  {
   "cell_type": "code",
   "execution_count": 80,
   "id": "68837f88",
   "metadata": {},
   "outputs": [
    {
     "data": {
      "text/plain": [
       "array([[6, 3, 9, 4, 5],\n",
       "       [3, 9, 7, 3, 6]])"
      ]
     },
     "execution_count": 80,
     "metadata": {},
     "output_type": "execute_result"
    }
   ],
   "source": [
    "np.random.seed(19)\n",
    "b = np.random.randint(1, 10, (2, 5))\n",
    "b"
   ]
  },
  {
   "cell_type": "code",
   "execution_count": 81,
   "id": "3037adee",
   "metadata": {},
   "outputs": [
    {
     "data": {
      "text/plain": [
       "array([[0, 1, 2, 3, 4],\n",
       "       [5, 6, 7, 8, 9],\n",
       "       [6, 3, 9, 4, 5],\n",
       "       [3, 9, 7, 3, 6]])"
      ]
     },
     "execution_count": 81,
     "metadata": {},
     "output_type": "execute_result"
    }
   ],
   "source": [
    "np.vstack((a, b))"
   ]
  },
  {
   "cell_type": "code",
   "execution_count": 82,
   "id": "3e24cc34",
   "metadata": {},
   "outputs": [
    {
     "data": {
      "text/plain": [
       "array([[0, 1, 2, 3, 4, 6, 3, 9, 4, 5],\n",
       "       [5, 6, 7, 8, 9, 3, 9, 7, 3, 6]])"
      ]
     },
     "execution_count": 82,
     "metadata": {},
     "output_type": "execute_result"
    }
   ],
   "source": [
    "np.hstack((a, b))"
   ]
  },
  {
   "cell_type": "code",
   "execution_count": 83,
   "id": "f9b8d50a",
   "metadata": {},
   "outputs": [
    {
     "data": {
      "text/plain": [
       "array([[0, 1, 2, 3, 4, 6, 3, 9, 4, 5],\n",
       "       [5, 6, 7, 8, 9, 3, 9, 7, 3, 6]])"
      ]
     },
     "execution_count": 83,
     "metadata": {},
     "output_type": "execute_result"
    }
   ],
   "source": [
    "np.column_stack((a, b))"
   ]
  },
  {
   "cell_type": "code",
   "execution_count": 84,
   "id": "53bc999b",
   "metadata": {},
   "outputs": [
    {
     "data": {
      "text/plain": [
       "array([[0, 1, 2, 3, 4],\n",
       "       [5, 6, 7, 8, 9],\n",
       "       [6, 3, 9, 4, 5],\n",
       "       [3, 9, 7, 3, 6]])"
      ]
     },
     "execution_count": 84,
     "metadata": {},
     "output_type": "execute_result"
    }
   ],
   "source": [
    "np.row_stack((a, b))"
   ]
  },
  {
   "cell_type": "code",
   "execution_count": 85,
   "id": "2f3d743e",
   "metadata": {},
   "outputs": [],
   "source": [
    "a = np.array([1, 2, 4, 5])"
   ]
  },
  {
   "cell_type": "code",
   "execution_count": 86,
   "id": "c6b488e7",
   "metadata": {},
   "outputs": [],
   "source": [
    "c = a[:, np.newaxis]"
   ]
  },
  {
   "cell_type": "code",
   "execution_count": 87,
   "id": "20da6bd7",
   "metadata": {},
   "outputs": [
    {
     "data": {
      "text/plain": [
       "array([[1],\n",
       "       [2],\n",
       "       [4],\n",
       "       [5]])"
      ]
     },
     "execution_count": 87,
     "metadata": {},
     "output_type": "execute_result"
    }
   ],
   "source": [
    "c"
   ]
  },
  {
   "cell_type": "code",
   "execution_count": 88,
   "id": "34091266",
   "metadata": {},
   "outputs": [
    {
     "data": {
      "text/plain": [
       "array([5])"
      ]
     },
     "execution_count": 88,
     "metadata": {},
     "output_type": "execute_result"
    }
   ],
   "source": [
    "c[3]"
   ]
  },
  {
   "cell_type": "markdown",
   "id": "829c3da6",
   "metadata": {},
   "source": [
    "# Разбиение массива"
   ]
  },
  {
   "cell_type": "code",
   "execution_count": 89,
   "id": "42f7b026",
   "metadata": {},
   "outputs": [
    {
     "data": {
      "text/plain": [
       "array([[3., 7., 3., 4., 1., 4., 2., 2., 7., 2., 4., 9.],\n",
       "       [9., 7., 5., 2., 1., 9., 5., 1., 6., 7., 6., 9.],\n",
       "       [0., 5., 4., 0., 6., 8., 5., 2., 8., 5., 5., 7.],\n",
       "       [1., 8., 6., 7., 1., 8., 1., 0., 8., 8., 8., 4.],\n",
       "       [2., 0., 6., 7., 8., 2., 2., 6., 8., 9., 1., 4.],\n",
       "       [8., 4., 5., 0., 6., 9., 8., 8., 6., 2., 7., 2.],\n",
       "       [8., 0., 8., 1., 3., 3., 6., 1., 3., 0., 2., 4.],\n",
       "       [1., 6., 3., 7., 6., 4., 8., 6., 8., 3., 5., 1.],\n",
       "       [9., 2., 2., 0., 2., 7., 6., 1., 3., 4., 6., 4.],\n",
       "       [5., 8., 7., 3., 4., 3., 1., 2., 2., 3., 3., 5.]])"
      ]
     },
     "execution_count": 89,
     "metadata": {},
     "output_type": "execute_result"
    }
   ],
   "source": [
    "a = np.floor(10 * rg.random((10, 12)))\n",
    "a"
   ]
  },
  {
   "cell_type": "code",
   "execution_count": 90,
   "id": "8eda6c12",
   "metadata": {},
   "outputs": [
    {
     "data": {
      "text/plain": [
       "[array([[3., 7., 3.],\n",
       "        [9., 7., 5.],\n",
       "        [0., 5., 4.],\n",
       "        [1., 8., 6.],\n",
       "        [2., 0., 6.],\n",
       "        [8., 4., 5.],\n",
       "        [8., 0., 8.],\n",
       "        [1., 6., 3.],\n",
       "        [9., 2., 2.],\n",
       "        [5., 8., 7.]]),\n",
       " array([[4., 1., 4.],\n",
       "        [2., 1., 9.],\n",
       "        [0., 6., 8.],\n",
       "        [7., 1., 8.],\n",
       "        [7., 8., 2.],\n",
       "        [0., 6., 9.],\n",
       "        [1., 3., 3.],\n",
       "        [7., 6., 4.],\n",
       "        [0., 2., 7.],\n",
       "        [3., 4., 3.]]),\n",
       " array([[2., 2., 7.],\n",
       "        [5., 1., 6.],\n",
       "        [5., 2., 8.],\n",
       "        [1., 0., 8.],\n",
       "        [2., 6., 8.],\n",
       "        [8., 8., 6.],\n",
       "        [6., 1., 3.],\n",
       "        [8., 6., 8.],\n",
       "        [6., 1., 3.],\n",
       "        [1., 2., 2.]]),\n",
       " array([[2., 4., 9.],\n",
       "        [7., 6., 9.],\n",
       "        [5., 5., 7.],\n",
       "        [8., 8., 4.],\n",
       "        [9., 1., 4.],\n",
       "        [2., 7., 2.],\n",
       "        [0., 2., 4.],\n",
       "        [3., 5., 1.],\n",
       "        [4., 6., 4.],\n",
       "        [3., 3., 5.]])]"
      ]
     },
     "execution_count": 90,
     "metadata": {},
     "output_type": "execute_result"
    }
   ],
   "source": [
    "b = np.hsplit(a, 4)\n",
    "b"
   ]
  },
  {
   "cell_type": "code",
   "execution_count": 91,
   "id": "c3b34a23",
   "metadata": {},
   "outputs": [
    {
     "data": {
      "text/plain": [
       "[array([[3., 7., 3., 4., 1., 4., 2., 2., 7., 2., 4., 9.],\n",
       "        [9., 7., 5., 2., 1., 9., 5., 1., 6., 7., 6., 9.]]),\n",
       " array([[0., 5., 4., 0., 6., 8., 5., 2., 8., 5., 5., 7.],\n",
       "        [1., 8., 6., 7., 1., 8., 1., 0., 8., 8., 8., 4.]]),\n",
       " array([[2., 0., 6., 7., 8., 2., 2., 6., 8., 9., 1., 4.],\n",
       "        [8., 4., 5., 0., 6., 9., 8., 8., 6., 2., 7., 2.]]),\n",
       " array([[8., 0., 8., 1., 3., 3., 6., 1., 3., 0., 2., 4.],\n",
       "        [1., 6., 3., 7., 6., 4., 8., 6., 8., 3., 5., 1.]]),\n",
       " array([[9., 2., 2., 0., 2., 7., 6., 1., 3., 4., 6., 4.],\n",
       "        [5., 8., 7., 3., 4., 3., 1., 2., 2., 3., 3., 5.]])]"
      ]
     },
     "execution_count": 91,
     "metadata": {},
     "output_type": "execute_result"
    }
   ],
   "source": [
    "b = np.vsplit(a, 5)\n",
    "b"
   ]
  },
  {
   "cell_type": "code",
   "execution_count": 92,
   "id": "dd4dfb54",
   "metadata": {},
   "outputs": [
    {
     "data": {
      "text/plain": [
       "array([[9., 2., 2., 0., 2., 7., 6., 1., 3., 4., 6., 4.],\n",
       "       [5., 8., 7., 3., 4., 3., 1., 2., 2., 3., 3., 5.]])"
      ]
     },
     "execution_count": 92,
     "metadata": {},
     "output_type": "execute_result"
    }
   ],
   "source": [
    "b[-1]"
   ]
  },
  {
   "cell_type": "code",
   "execution_count": null,
   "id": "272f8d97",
   "metadata": {},
   "outputs": [],
   "source": []
  },
  {
   "cell_type": "code",
   "execution_count": 93,
   "id": "385040ce",
   "metadata": {},
   "outputs": [],
   "source": [
    "a = np.arange(10)"
   ]
  },
  {
   "cell_type": "code",
   "execution_count": 94,
   "id": "fd152395",
   "metadata": {},
   "outputs": [
    {
     "data": {
      "text/plain": [
       "array([0, 1, 2, 3, 4, 5, 6, 7, 8, 9])"
      ]
     },
     "execution_count": 94,
     "metadata": {},
     "output_type": "execute_result"
    }
   ],
   "source": [
    "a"
   ]
  },
  {
   "cell_type": "code",
   "execution_count": 95,
   "id": "f454a8f1",
   "metadata": {},
   "outputs": [],
   "source": [
    "b = a.view()"
   ]
  },
  {
   "cell_type": "code",
   "execution_count": 96,
   "id": "6fda5fae",
   "metadata": {},
   "outputs": [
    {
     "data": {
      "text/plain": [
       "array([0, 1, 2, 3, 4, 5, 6, 7, 8, 9])"
      ]
     },
     "execution_count": 96,
     "metadata": {},
     "output_type": "execute_result"
    }
   ],
   "source": [
    "b"
   ]
  },
  {
   "cell_type": "code",
   "execution_count": 97,
   "id": "a4bdc024",
   "metadata": {},
   "outputs": [
    {
     "data": {
      "text/plain": [
       "array([[0, 1, 2, 3, 4],\n",
       "       [5, 6, 7, 8, 9]])"
      ]
     },
     "execution_count": 97,
     "metadata": {},
     "output_type": "execute_result"
    }
   ],
   "source": [
    "a.resize((2, 5))\n",
    "a"
   ]
  },
  {
   "cell_type": "code",
   "execution_count": 98,
   "id": "8588d9cf",
   "metadata": {},
   "outputs": [],
   "source": [
    "a[0, 0] = 100"
   ]
  },
  {
   "cell_type": "code",
   "execution_count": 99,
   "id": "a2552e0a",
   "metadata": {},
   "outputs": [
    {
     "data": {
      "text/plain": [
       "array([[100,   1,   2,   3,   4],\n",
       "       [  5,   6,   7,   8,   9]])"
      ]
     },
     "execution_count": 99,
     "metadata": {},
     "output_type": "execute_result"
    }
   ],
   "source": [
    "a"
   ]
  },
  {
   "cell_type": "code",
   "execution_count": 100,
   "id": "e072fef3",
   "metadata": {},
   "outputs": [
    {
     "data": {
      "text/plain": [
       "array([100,   1,   2,   3,   4,   5,   6,   7,   8,   9])"
      ]
     },
     "execution_count": 100,
     "metadata": {},
     "output_type": "execute_result"
    }
   ],
   "source": [
    "b"
   ]
  },
  {
   "cell_type": "code",
   "execution_count": 101,
   "id": "47bdd2c2",
   "metadata": {},
   "outputs": [],
   "source": [
    "b = a.copy()"
   ]
  },
  {
   "cell_type": "code",
   "execution_count": 102,
   "id": "3f464b5c",
   "metadata": {},
   "outputs": [
    {
     "data": {
      "text/plain": [
       "array([[1000,    1,    2,    3,    4],\n",
       "       [   5,    6,    7,    8,    9]])"
      ]
     },
     "execution_count": 102,
     "metadata": {},
     "output_type": "execute_result"
    }
   ],
   "source": [
    "a[0, 0] = 1000\n",
    "a"
   ]
  },
  {
   "cell_type": "code",
   "execution_count": 103,
   "id": "48a5baed",
   "metadata": {},
   "outputs": [
    {
     "data": {
      "text/plain": [
       "array([[100,   1,   2,   3,   4],\n",
       "       [  5,   6,   7,   8,   9]])"
      ]
     },
     "execution_count": 103,
     "metadata": {},
     "output_type": "execute_result"
    }
   ],
   "source": [
    "b"
   ]
  },
  {
   "cell_type": "markdown",
   "id": "b2025486",
   "metadata": {},
   "source": [
    "# Линейная алгебра"
   ]
  },
  {
   "cell_type": "markdown",
   "id": "e73c9545",
   "metadata": {},
   "source": [
    "## Умножение матриц (лин преобразования)"
   ]
  },
  {
   "cell_type": "code",
   "execution_count": 104,
   "id": "acede4d8",
   "metadata": {},
   "outputs": [],
   "source": [
    "A = np.array([[1, 3, 1],\n",
    "              [2, 1, 2]])\n",
    "\n",
    "B = np.array([[4, 1], \n",
    "              [2, 2],\n",
    "              [8, 11]])"
   ]
  },
  {
   "cell_type": "code",
   "execution_count": 105,
   "id": "673f339a",
   "metadata": {},
   "outputs": [
    {
     "data": {
      "text/plain": [
       "array([[18, 18],\n",
       "       [26, 26]])"
      ]
     },
     "execution_count": 105,
     "metadata": {},
     "output_type": "execute_result"
    }
   ],
   "source": [
    "A @ B"
   ]
  },
  {
   "cell_type": "code",
   "execution_count": 106,
   "id": "ef708c5b",
   "metadata": {},
   "outputs": [
    {
     "data": {
      "text/plain": [
       "array([[ 6, 13,  6],\n",
       "       [ 6,  8,  6],\n",
       "       [30, 35, 30]])"
      ]
     },
     "execution_count": 106,
     "metadata": {},
     "output_type": "execute_result"
    }
   ],
   "source": [
    "B @ A"
   ]
  },
  {
   "cell_type": "code",
   "execution_count": 107,
   "id": "26f2324b",
   "metadata": {},
   "outputs": [
    {
     "data": {
      "text/plain": [
       "array([[18, 18],\n",
       "       [26, 26]])"
      ]
     },
     "execution_count": 107,
     "metadata": {},
     "output_type": "execute_result"
    }
   ],
   "source": [
    "np.dot(A, B)"
   ]
  },
  {
   "cell_type": "code",
   "execution_count": 108,
   "id": "671961f5",
   "metadata": {},
   "outputs": [
    {
     "data": {
      "text/plain": [
       "array([[ 6, 13,  6],\n",
       "       [ 6,  8,  6],\n",
       "       [30, 35, 30]])"
      ]
     },
     "execution_count": 108,
     "metadata": {},
     "output_type": "execute_result"
    }
   ],
   "source": [
    "B.dot(A)"
   ]
  },
  {
   "cell_type": "code",
   "execution_count": null,
   "id": "31f277ad",
   "metadata": {},
   "outputs": [],
   "source": []
  },
  {
   "cell_type": "markdown",
   "id": "e1efa194",
   "metadata": {},
   "source": [
    "## Матрица на вектор"
   ]
  },
  {
   "cell_type": "code",
   "execution_count": 109,
   "id": "7df75c29",
   "metadata": {},
   "outputs": [
    {
     "data": {
      "text/plain": [
       "array([ 1, 17])"
      ]
     },
     "execution_count": 109,
     "metadata": {},
     "output_type": "execute_result"
    }
   ],
   "source": [
    "A = np.array([[1, 0],\n",
    "              [2, 5]])\n",
    "\n",
    "v = np.array([1, 3])\n",
    "\n",
    "A @ v"
   ]
  },
  {
   "cell_type": "code",
   "execution_count": 110,
   "id": "fce28b4d",
   "metadata": {},
   "outputs": [
    {
     "data": {
      "text/plain": [
       "array([ 1, 17])"
      ]
     },
     "execution_count": 110,
     "metadata": {},
     "output_type": "execute_result"
    }
   ],
   "source": [
    "A @ v.T"
   ]
  },
  {
   "cell_type": "code",
   "execution_count": 111,
   "id": "e46ba70b",
   "metadata": {},
   "outputs": [
    {
     "data": {
      "text/plain": [
       "array([ 7, 15])"
      ]
     },
     "execution_count": 111,
     "metadata": {},
     "output_type": "execute_result"
    }
   ],
   "source": [
    "v @ A"
   ]
  },
  {
   "cell_type": "code",
   "execution_count": 112,
   "id": "a41d2888",
   "metadata": {},
   "outputs": [
    {
     "data": {
      "text/plain": [
       "array([ 7, 15])"
      ]
     },
     "execution_count": 112,
     "metadata": {},
     "output_type": "execute_result"
    }
   ],
   "source": [
    "v.T @ A"
   ]
  },
  {
   "cell_type": "code",
   "execution_count": null,
   "id": "8f0d2442",
   "metadata": {},
   "outputs": [],
   "source": []
  },
  {
   "cell_type": "markdown",
   "id": "7995c215",
   "metadata": {},
   "source": [
    "## Транспонирование матриц"
   ]
  },
  {
   "cell_type": "code",
   "execution_count": 113,
   "id": "6ccd2597",
   "metadata": {},
   "outputs": [],
   "source": [
    "A = np.array([[1, 2],\n",
    "              [3, 4]])"
   ]
  },
  {
   "cell_type": "code",
   "execution_count": 114,
   "id": "32c2bb57",
   "metadata": {},
   "outputs": [
    {
     "data": {
      "text/plain": [
       "array([[1, 3],\n",
       "       [2, 4]])"
      ]
     },
     "execution_count": 114,
     "metadata": {},
     "output_type": "execute_result"
    }
   ],
   "source": [
    "np.transpose(A)"
   ]
  },
  {
   "cell_type": "code",
   "execution_count": 115,
   "id": "f62b0aa4",
   "metadata": {},
   "outputs": [
    {
     "data": {
      "text/plain": [
       "array([[1, 3],\n",
       "       [2, 4]])"
      ]
     },
     "execution_count": 115,
     "metadata": {},
     "output_type": "execute_result"
    }
   ],
   "source": [
    "A.T"
   ]
  },
  {
   "cell_type": "markdown",
   "id": "f10d7e6d",
   "metadata": {},
   "source": [
    "## Определитель матрицы"
   ]
  },
  {
   "cell_type": "code",
   "execution_count": 116,
   "id": "d96f610e",
   "metadata": {},
   "outputs": [],
   "source": [
    "A = np.array([[1, 2, 1],\n",
    "              [1, 1, 4],\n",
    "              [2, 3, 6]], dtype=np.float32)"
   ]
  },
  {
   "cell_type": "code",
   "execution_count": 117,
   "id": "ee504ad4",
   "metadata": {},
   "outputs": [
    {
     "data": {
      "text/plain": [
       "-1.0"
      ]
     },
     "execution_count": 117,
     "metadata": {},
     "output_type": "execute_result"
    }
   ],
   "source": [
    "np.linalg.det(A)"
   ]
  },
  {
   "cell_type": "markdown",
   "id": "c1a80cf8",
   "metadata": {},
   "source": [
    "## Ранг матрицы"
   ]
  },
  {
   "cell_type": "code",
   "execution_count": 118,
   "id": "ca959456",
   "metadata": {},
   "outputs": [],
   "source": [
    "A = np.array([[1, 1, 2],\n",
    "              [2, 1, 2],\n",
    "              [3, 1, 2]])"
   ]
  },
  {
   "cell_type": "code",
   "execution_count": 119,
   "id": "560ec6cc",
   "metadata": {},
   "outputs": [
    {
     "data": {
      "text/plain": [
       "2"
      ]
     },
     "execution_count": 119,
     "metadata": {},
     "output_type": "execute_result"
    }
   ],
   "source": [
    "np.linalg.matrix_rank(A)"
   ]
  },
  {
   "cell_type": "markdown",
   "id": "6511dc2e",
   "metadata": {},
   "source": [
    "## СЛАУ"
   ]
  },
  {
   "cell_type": "code",
   "execution_count": 120,
   "id": "f837a888",
   "metadata": {},
   "outputs": [],
   "source": [
    "A = np.array([[3, 1],\n",
    "              [1, 2]])\n",
    "\n",
    "b = np.array([9, 8])"
   ]
  },
  {
   "cell_type": "code",
   "execution_count": 121,
   "id": "e63d5948",
   "metadata": {},
   "outputs": [
    {
     "data": {
      "text/plain": [
       "array([2., 3.])"
      ]
     },
     "execution_count": 121,
     "metadata": {},
     "output_type": "execute_result"
    }
   ],
   "source": [
    "x = np.linalg.solve(A, b)\n",
    "x"
   ]
  },
  {
   "cell_type": "code",
   "execution_count": 122,
   "id": "b8fa69b7",
   "metadata": {},
   "outputs": [
    {
     "data": {
      "text/plain": [
       "array([9., 8.])"
      ]
     },
     "execution_count": 122,
     "metadata": {},
     "output_type": "execute_result"
    }
   ],
   "source": [
    "A.dot(x)"
   ]
  },
  {
   "cell_type": "code",
   "execution_count": null,
   "id": "286f1fdc",
   "metadata": {},
   "outputs": [],
   "source": []
  },
  {
   "cell_type": "code",
   "execution_count": 123,
   "id": "015ac2ad",
   "metadata": {},
   "outputs": [],
   "source": [
    "A = np.array([[0, 1], [1, 1], [2, 1], [3, 1]])\n",
    "b = np.array([-1, 0.2, 0.9, 2.1])"
   ]
  },
  {
   "cell_type": "code",
   "execution_count": 124,
   "id": "917c222f",
   "metadata": {},
   "outputs": [],
   "source": [
    "# np.linalg.solve(A, b)"
   ]
  },
  {
   "cell_type": "code",
   "execution_count": 125,
   "id": "333b329e",
   "metadata": {},
   "outputs": [
    {
     "data": {
      "text/plain": [
       "(array([ 1.  , -0.95]), array([0.05]), 2, array([4.10003045, 1.09075677]))"
      ]
     },
     "execution_count": 125,
     "metadata": {},
     "output_type": "execute_result"
    }
   ],
   "source": [
    "x, res, r, s = np.linalg.lstsq(A, b, rcond=None)\n",
    "x, res, r, s"
   ]
  },
  {
   "cell_type": "code",
   "execution_count": null,
   "id": "b45795bf",
   "metadata": {},
   "outputs": [],
   "source": []
  },
  {
   "cell_type": "markdown",
   "id": "62467537",
   "metadata": {},
   "source": [
    "## Обратная матрица"
   ]
  },
  {
   "cell_type": "code",
   "execution_count": 126,
   "id": "66e9e4f4",
   "metadata": {},
   "outputs": [],
   "source": [
    "A = np.array([[1, 2, 1],\n",
    "              [1, 1, 4],\n",
    "              [2, 3, 6]], dtype=np.float32)\n",
    "\n",
    "B = np.linalg.inv(A)"
   ]
  },
  {
   "cell_type": "code",
   "execution_count": 127,
   "id": "1f3a8d3c",
   "metadata": {},
   "outputs": [
    {
     "data": {
      "text/plain": [
       "array([[ 6.,  9., -7.],\n",
       "       [-2., -4.,  3.],\n",
       "       [-1., -1.,  1.]], dtype=float32)"
      ]
     },
     "execution_count": 127,
     "metadata": {},
     "output_type": "execute_result"
    }
   ],
   "source": [
    "B"
   ]
  },
  {
   "cell_type": "code",
   "execution_count": 128,
   "id": "83a2ec53",
   "metadata": {},
   "outputs": [
    {
     "data": {
      "text/plain": [
       "array([[1., 0., 0.],\n",
       "       [0., 1., 0.],\n",
       "       [0., 0., 1.]], dtype=float32)"
      ]
     },
     "execution_count": 128,
     "metadata": {},
     "output_type": "execute_result"
    }
   ],
   "source": [
    "A.dot(B)"
   ]
  },
  {
   "cell_type": "code",
   "execution_count": 129,
   "id": "4cefa522",
   "metadata": {},
   "outputs": [
    {
     "data": {
      "text/plain": [
       "array([[1., 0., 0.],\n",
       "       [0., 1., 0.],\n",
       "       [0., 0., 1.]], dtype=float32)"
      ]
     },
     "execution_count": 129,
     "metadata": {},
     "output_type": "execute_result"
    }
   ],
   "source": [
    "B.dot(A)"
   ]
  },
  {
   "cell_type": "markdown",
   "id": "931c9e9f",
   "metadata": {},
   "source": [
    "## Собственные вектора и значения"
   ]
  },
  {
   "cell_type": "code",
   "execution_count": 130,
   "id": "e4e30857",
   "metadata": {},
   "outputs": [],
   "source": [
    "A = np.array([[-1, -6],\n",
    "              [2, 6]])\n",
    "\n",
    "num, v = np.linalg.eig(A)"
   ]
  },
  {
   "cell_type": "code",
   "execution_count": 131,
   "id": "a775b4db",
   "metadata": {},
   "outputs": [
    {
     "data": {
      "text/plain": [
       "array([2., 3.])"
      ]
     },
     "execution_count": 131,
     "metadata": {},
     "output_type": "execute_result"
    }
   ],
   "source": [
    "num"
   ]
  },
  {
   "cell_type": "code",
   "execution_count": 132,
   "id": "f47c4b2c",
   "metadata": {},
   "outputs": [
    {
     "data": {
      "text/plain": [
       "array([[-0.89442719,  0.83205029],\n",
       "       [ 0.4472136 , -0.5547002 ]])"
      ]
     },
     "execution_count": 132,
     "metadata": {},
     "output_type": "execute_result"
    }
   ],
   "source": [
    "v"
   ]
  }
 ],
 "metadata": {
  "kernelspec": {
   "display_name": "Python 3 (ipykernel)",
   "language": "python",
   "name": "python3"
  },
  "language_info": {
   "codemirror_mode": {
    "name": "ipython",
    "version": 3
   },
   "file_extension": ".py",
   "mimetype": "text/x-python",
   "name": "python",
   "nbconvert_exporter": "python",
   "pygments_lexer": "ipython3",
   "version": "3.9.13"
  }
 },
 "nbformat": 4,
 "nbformat_minor": 5
}
